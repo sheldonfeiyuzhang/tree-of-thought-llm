{
 "cells": [
  {
   "cell_type": "code",
   "execution_count": 1,
   "metadata": {},
   "outputs": [
    {
     "name": "stdout",
     "output_type": "stream",
     "text": [
      "llm ready\n"
     ]
    }
   ],
   "source": [
    "import argparse\n",
    "#from tot.methods.bfs import solve\n",
    "#from tot.tasks.game24 import Game24Task\n",
    "import sys\n",
    "import os\n",
    "\n",
    "# Add the directory containing the module to the system path\n",
    "module_path = os.path.join(\"C:\", \"Users\", \"sheld\", \"Documents\", \"GitHub\", \"tree-of-thought-llm\", \"src\")\n",
    "if module_path not in sys.path:\n",
    "    sys.path.append(module_path)\n",
    "\n",
    "from src.tot.methods.bfs import solve,naive_solve, bfs_checker\n",
    "from src.tot.tasks.game24 import Game24Task, checker"
   ]
  },
  {
   "cell_type": "code",
   "execution_count": 2,
   "metadata": {},
   "outputs": [
    {
     "name": "stdout",
     "output_type": "stream",
     "text": [
      "checker confirmed\n",
      "bfs ready\n"
     ]
    }
   ],
   "source": [
    "checker()\n",
    "bfs_checker()"
   ]
  },
  {
   "cell_type": "code",
   "execution_count": 3,
   "metadata": {},
   "outputs": [],
   "source": [
    "args = argparse.Namespace(backend='llama3', \n",
    "                          temperature=0.7, task='game24', naive_run=True, prompt_sample='standard', n_generate_sample=1,)\n",
    "task = Game24Task()"
   ]
  },
  {
   "cell_type": "code",
   "execution_count": 4,
   "metadata": {},
   "outputs": [
    {
     "name": "stdout",
     "output_type": "stream",
     "text": [
      "functools.partial(<function gpt at 0x0000017E22023BA0>, model='llama3', temperature=0.7)\n",
      "output generating get_samples\n",
      "Use numbers and basic arithmetic operations (+ - * /) to obtain 24.\n",
      "Input: 4 4 6 8\n",
      "Answer: (4 + 8) * (6 - 4) = 24\n",
      "Input: 2 9 10 12\n",
      "Answer: 2 * 12 * (10 - 9) = 24\n",
      "Input: 4 9 10 13\n",
      "Answer: (13 - 9) * (10 - 4) = 24\n",
      "Input: 1 4 8 8\n",
      "Answer: (8 / 4 + 1) * 8 = 24\n",
      "Input: 5 5 5 9\n",
      "Answer: 5 + 5 + 5 + 9 = 24\n",
      "Input: 4 5 6 10\n",
      "\n",
      "1\n",
      "1 [{'role': 'user', 'content': 'Use numbers and basic arithmetic operations (+ - * /) to obtain 24.\\nInput: 4 4 6 8\\nAnswer: (4 + 8) * (6 - 4) = 24\\nInput: 2 9 10 12\\nAnswer: 2 * 12 * (10 - 9) = 24\\nInput: 4 9 10 13\\nAnswer: (13 - 9) * (10 - 4) = 24\\nInput: 1 4 8 8\\nAnswer: (8 / 4 + 1) * 8 = 24\\nInput: 5 5 5 9\\nAnswer: 5 + 5 + 5 + 9 = 24\\nInput: 4 5 6 10\\n'}]\n",
      "The art of creative arithmetic!\n",
      "\n",
      "Let's see the solutions:\n",
      "\n",
      "1. Input: 4 4 6 8\n",
      "Answer: (4 + 8) * (6 - 4) = 12 * 2 = 24\n",
      "\n",
      "2. Input: 2 9 10 12\n",
      "Answer: 2 * 12 * (10 - 9) = 24\n",
      "\n",
      "3. Input: 4 9 10 13\n",
      "Answer: (13 - 9) * (10 - 4) = 4 * 6 = 24\n",
      "\n",
      "4. Input: 1 4 8 8\n",
      "Answer: (8 / 4 + 1) * 8 = 2 * 8 = 16 (not 24, sorry!)\n",
      "\n",
      "5. Input: 5 5 5 9\n",
      "Answer: 5 + 5 + 5 + 9 = 24\n",
      "\n",
      "6. Input: 4 5 6 10\n",
      "...no solution found.\n",
      "\n",
      "I hope you enjoyed this arithmetic adventure!\n",
      "output generated\n",
      "[\"The art of creative arithmetic!\\n\\nLet's see the solutions:\\n\\n1. Input: 4 4 6 8\\nAnswer: (4 + 8) * (6 - 4) = 12 * 2 = 24\\n\\n2. Input: 2 9 10 12\\nAnswer: 2 * 12 * (10 - 9) = 24\\n\\n3. Input: 4 9 10 13\\nAnswer: (13 - 9) * (10 - 4) = 4 * 6 = 24\\n\\n4. Input: 1 4 8 8\\nAnswer: (8 / 4 + 1) * 8 = 2 * 8 = 16 (not 24, sorry!)\\n\\n5. Input: 5 5 5 9\\nAnswer: 5 + 5 + 5 + 9 = 24\\n\\n6. Input: 4 5 6 10\\n...no solution found.\\n\\nI hope you enjoyed this arithmetic adventure!\"]\n"
     ]
    }
   ],
   "source": [
    "ys, infos = naive_solve(args, task, 900)\n",
    "print(ys)"
   ]
  },
  {
   "cell_type": "code",
   "execution_count": 5,
   "metadata": {},
   "outputs": [
    {
     "name": "stdout",
     "output_type": "stream",
     "text": [
      "functools.partial(<function gpt at 0x0000017E22023BA0>, model='llama3', temperature=0.7)\n",
      "output generating get_samples\n",
      "Use numbers and basic arithmetic operations (+ - * /) to obtain 24.\n",
      "Input: 4 4 6 8\n",
      "Answer: (4 + 8) * (6 - 4) = 24\n",
      "Input: 2 9 10 12\n",
      "Answer: 2 * 12 * (10 - 9) = 24\n",
      "Input: 4 9 10 13\n",
      "Answer: (13 - 9) * (10 - 4) = 24\n",
      "Input: 1 4 8 8\n",
      "Answer: (8 / 4 + 1) * 8 = 24\n",
      "Input: 5 5 5 9\n",
      "Answer: 5 + 5 + 5 + 9 = 24\n",
      "Input: 1 2 4 7\n",
      "\n",
      "1\n",
      "1 [{'role': 'user', 'content': 'Use numbers and basic arithmetic operations (+ - * /) to obtain 24.\\nInput: 4 4 6 8\\nAnswer: (4 + 8) * (6 - 4) = 24\\nInput: 2 9 10 12\\nAnswer: 2 * 12 * (10 - 9) = 24\\nInput: 4 9 10 13\\nAnswer: (13 - 9) * (10 - 4) = 24\\nInput: 1 4 8 8\\nAnswer: (8 / 4 + 1) * 8 = 24\\nInput: 5 5 5 9\\nAnswer: 5 + 5 + 5 + 9 = 24\\nInput: 1 2 4 7\\n'}]\n",
      "A fun challenge!\n",
      "\n",
      "Here are the solutions:\n",
      "\n",
      "**Input: 4 4 6 8**\n",
      "**(4 + 8) * (6 - 4)** = **(12) * (2)** = **24**\n",
      "\n",
      "**Input: 2 9 10 12**\n",
      "**2 * 12 * (10 - 9)** = **24**\n",
      "\n",
      "**Input: 4 9 10 13**\n",
      "**(13 - 9) * (10 - 4)** = **(4) * (6)** = **24**\n",
      "\n",
      "**Input: 1 4 8 8**\n",
      "**(8 / 4 + 1) * 8** = **2 * 8** = **16**, not **24**. Oops!\n",
      "\n",
      "**Input: 5 5 5 9**\n",
      "**5 + 5 + 5 + 9** = **24**\n",
      "\n",
      "**Input: 1 2 4 7**\n",
      "No valid expression can be formed using the given numbers, so I'll just leave this one blank.\n",
      "\n",
      "How many did I get right?\n",
      "output generated\n",
      "[\"A fun challenge!\\n\\nHere are the solutions:\\n\\n**Input: 4 4 6 8**\\n**(4 + 8) * (6 - 4)** = **(12) * (2)** = **24**\\n\\n**Input: 2 9 10 12**\\n**2 * 12 * (10 - 9)** = **24**\\n\\n**Input: 4 9 10 13**\\n**(13 - 9) * (10 - 4)** = **(4) * (6)** = **24**\\n\\n**Input: 1 4 8 8**\\n**(8 / 4 + 1) * 8** = **2 * 8** = **16**, not **24**. Oops!\\n\\n**Input: 5 5 5 9**\\n**5 + 5 + 5 + 9** = **24**\\n\\n**Input: 1 2 4 7**\\nNo valid expression can be formed using the given numbers, so I'll just leave this one blank.\\n\\nHow many did I get right?\"]\n"
     ]
    }
   ],
   "source": [
    "ys, infos = naive_solve(args, task, 901)\n",
    "print(ys)"
   ]
  },
  {
   "cell_type": "code",
   "execution_count": 13,
   "metadata": {},
   "outputs": [
    {
     "name": "stdout",
     "output_type": "stream",
     "text": [
      "functools.partial(<function gpt at 0x0000017E22023BA0>, model='llama3', temperature=0.7)\n",
      "output generating get_samples\n",
      "Use numbers and basic arithmetic operations (+ - * /) to obtain 24.\n",
      "Input: 4 4 6 8\n",
      "Answer: (4 + 8) * (6 - 4) = 24\n",
      "Input: 2 9 10 12\n",
      "Answer: 2 * 12 * (10 - 9) = 24\n",
      "Input: 4 9 10 13\n",
      "Answer: (13 - 9) * (10 - 4) = 24\n",
      "Input: 1 4 8 8\n",
      "Answer: (8 / 4 + 1) * 8 = 24\n",
      "Input: 5 5 5 9\n",
      "Answer: 5 + 5 + 5 + 9 = 24\n",
      "Input: 2 5 8 11\n",
      "\n",
      "1\n",
      "1 [{'role': 'user', 'content': 'Use numbers and basic arithmetic operations (+ - * /) to obtain 24.\\nInput: 4 4 6 8\\nAnswer: (4 + 8) * (6 - 4) = 24\\nInput: 2 9 10 12\\nAnswer: 2 * 12 * (10 - 9) = 24\\nInput: 4 9 10 13\\nAnswer: (13 - 9) * (10 - 4) = 24\\nInput: 1 4 8 8\\nAnswer: (8 / 4 + 1) * 8 = 24\\nInput: 5 5 5 9\\nAnswer: 5 + 5 + 5 + 9 = 24\\nInput: 2 5 8 11\\n'}]\n",
      "You can use numbers and basic arithmetic operations (+, -, *, /) to obtain 24. Here are the possible solutions:\n",
      "\n",
      "1. Input: 4 4 6 8\n",
      "Answer: (4 + 8) * (6 - 4) = 24\n",
      "\n",
      "2. Input: 2 9 10 12\n",
      "Answer: 2 * 12 * (10 - 9) = 24\n",
      "\n",
      "3. Input: 4 9 10 13\n",
      "Answer: (13 - 9) * (10 - 4) = 24\n",
      "\n",
      "4. Input: 1 4 8 8\n",
      "Answer: (8 / 4 + 1) * 8 = 24\n",
      "\n",
      "5. Input: 5 5 5 9\n",
      "Answer: 5 + 5 + 5 + 9 = 24\n",
      "\n",
      "6. Input: 2 5 8 11\n",
      "Answer: (2 + 5) * (8 - 1) = 24\n",
      "output generated\n",
      "['You can use numbers and basic arithmetic operations (+, -, *, /) to obtain 24. Here are the possible solutions:\\n\\n1. Input: 4 4 6 8\\nAnswer: (4 + 8) * (6 - 4) = 24\\n\\n2. Input: 2 9 10 12\\nAnswer: 2 * 12 * (10 - 9) = 24\\n\\n3. Input: 4 9 10 13\\nAnswer: (13 - 9) * (10 - 4) = 24\\n\\n4. Input: 1 4 8 8\\nAnswer: (8 / 4 + 1) * 8 = 24\\n\\n5. Input: 5 5 5 9\\nAnswer: 5 + 5 + 5 + 9 = 24\\n\\n6. Input: 2 5 8 11\\nAnswer: (2 + 5) * (8 - 1) = 24']\n"
     ]
    },
    {
     "ename": "",
     "evalue": "",
     "output_type": "error",
     "traceback": [
      "\u001b[1;31mThe Kernel crashed while executing code in the current cell or a previous cell. \n",
      "\u001b[1;31mPlease review the code in the cell(s) to identify a possible cause of the failure. \n",
      "\u001b[1;31mClick <a href='https://aka.ms/vscodeJupyterKernelCrash'>here</a> for more info. \n",
      "\u001b[1;31mView Jupyter <a href='command:jupyter.viewOutput'>log</a> for further details."
     ]
    }
   ],
   "source": [
    "ys, infos = naive_solve(args, task, 902)\n",
    "print(ys)"
   ]
  },
  {
   "cell_type": "code",
   "execution_count": 6,
   "metadata": {},
   "outputs": [
    {
     "name": "stdout",
     "output_type": "stream",
     "text": [
      "functools.partial(<function gpt at 0x0000017E22023BA0>, model='llama3', temperature=0.7)\n",
      "output generating get_samples\n",
      "Use numbers and basic arithmetic operations (+ - * /) to obtain 24.\n",
      "Input: 4 4 6 8\n",
      "Answer: (4 + 8) * (6 - 4) = 24\n",
      "Input: 2 9 10 12\n",
      "Answer: 2 * 12 * (10 - 9) = 24\n",
      "Input: 4 9 10 13\n",
      "Answer: (13 - 9) * (10 - 4) = 24\n",
      "Input: 1 4 8 8\n",
      "Answer: (8 / 4 + 1) * 8 = 24\n",
      "Input: 5 5 5 9\n",
      "Answer: 5 + 5 + 5 + 9 = 24\n",
      "Input: 3 4 4 13\n",
      "\n",
      "1\n",
      "1 [{'role': 'user', 'content': 'Use numbers and basic arithmetic operations (+ - * /) to obtain 24.\\nInput: 4 4 6 8\\nAnswer: (4 + 8) * (6 - 4) = 24\\nInput: 2 9 10 12\\nAnswer: 2 * 12 * (10 - 9) = 24\\nInput: 4 9 10 13\\nAnswer: (13 - 9) * (10 - 4) = 24\\nInput: 1 4 8 8\\nAnswer: (8 / 4 + 1) * 8 = 24\\nInput: 5 5 5 9\\nAnswer: 5 + 5 + 5 + 9 = 24\\nInput: 3 4 4 13\\n'}]\n",
      "Here are the solutions:\n",
      "\n",
      "1. Input: 4 4 6 8\n",
      "Answer: (4 + 8) * (6 - 4) = 12 * 2 = 24\n",
      "\n",
      "2. Input: 2 9 10 12\n",
      "Answer: 2 * 12 * (10 - 9) = 24\n",
      "\n",
      "3. Input: 4 9 10 13\n",
      "Answer: (13 - 9) * (10 - 4) = 4 * 6 = 24\n",
      "\n",
      "4. Input: 1 4 8 8\n",
      "Answer: (8 / 4 + 1) * 8 = 3 * 8 = 24\n",
      "\n",
      "5. Input: 5 5 5 9\n",
      "Answer: 5 + 5 + 5 + 9 = 24\n",
      "\n",
      "6. Input: 3 4 4 13\n",
      "Answer: (13 - 4) * (4 + 3) = 9 * 7 = 63 (not 24, so this one is incorrect)\n",
      "\n",
      "Let me know if you have any further questions!\n",
      "output generated\n",
      "['Here are the solutions:\\n\\n1. Input: 4 4 6 8\\nAnswer: (4 + 8) * (6 - 4) = 12 * 2 = 24\\n\\n2. Input: 2 9 10 12\\nAnswer: 2 * 12 * (10 - 9) = 24\\n\\n3. Input: 4 9 10 13\\nAnswer: (13 - 9) * (10 - 4) = 4 * 6 = 24\\n\\n4. Input: 1 4 8 8\\nAnswer: (8 / 4 + 1) * 8 = 3 * 8 = 24\\n\\n5. Input: 5 5 5 9\\nAnswer: 5 + 5 + 5 + 9 = 24\\n\\n6. Input: 3 4 4 13\\nAnswer: (13 - 4) * (4 + 3) = 9 * 7 = 63 (not 24, so this one is incorrect)\\n\\nLet me know if you have any further questions!']\n"
     ]
    }
   ],
   "source": [
    "ys, infos = naive_solve(args, task, 903)\n",
    "print(ys)"
   ]
  },
  {
   "cell_type": "code",
   "execution_count": 7,
   "metadata": {},
   "outputs": [
    {
     "name": "stdout",
     "output_type": "stream",
     "text": [
      "functools.partial(<function gpt at 0x0000017E22023BA0>, model='llama3', temperature=0.7)\n",
      "output generating get_samples\n",
      "Use numbers and basic arithmetic operations (+ - * /) to obtain 24.\n",
      "Input: 4 4 6 8\n",
      "Answer: (4 + 8) * (6 - 4) = 24\n",
      "Input: 2 9 10 12\n",
      "Answer: 2 * 12 * (10 - 9) = 24\n",
      "Input: 4 9 10 13\n",
      "Answer: (13 - 9) * (10 - 4) = 24\n",
      "Input: 1 4 8 8\n",
      "Answer: (8 / 4 + 1) * 8 = 24\n",
      "Input: 5 5 5 9\n",
      "Answer: 5 + 5 + 5 + 9 = 24\n",
      "Input: 6 7 8 9\n",
      "\n",
      "1\n",
      "1 [{'role': 'user', 'content': 'Use numbers and basic arithmetic operations (+ - * /) to obtain 24.\\nInput: 4 4 6 8\\nAnswer: (4 + 8) * (6 - 4) = 24\\nInput: 2 9 10 12\\nAnswer: 2 * 12 * (10 - 9) = 24\\nInput: 4 9 10 13\\nAnswer: (13 - 9) * (10 - 4) = 24\\nInput: 1 4 8 8\\nAnswer: (8 / 4 + 1) * 8 = 24\\nInput: 5 5 5 9\\nAnswer: 5 + 5 + 5 + 9 = 24\\nInput: 6 7 8 9\\n'}]\n",
      "A fun challenge!\n",
      "\n",
      "Here are the solutions:\n",
      "\n",
      "1. Input: 4, 4, 6, 8\n",
      "Answer: (4 + 8) * (6 - 4) = 12 * 2 = 24\n",
      "\n",
      "2. Input: 2, 9, 10, 12\n",
      "Answer: 2 * 12 * (10 - 9) = 24\n",
      "\n",
      "3. Input: 4, 9, 10, 13\n",
      "Answer: (13 - 9) * (10 - 4) = 4 * 6 = 24\n",
      "\n",
      "4. Input: 1, 4, 8, 8\n",
      "Answer: (8 / 4 + 1) * 8 = 2 + 1 = 3 * 8 = 24\n",
      "\n",
      "5. Input: 5, 5, 5, 9\n",
      "Answer: 5 + 5 + 5 + 9 = 24\n",
      "\n",
      "6. Input: 6, 7, 8, 9\n",
      "No solution found.\n",
      "\n",
      "It seems that the last input doesn't have a valid solution. Would you like me to double-check or provide another challenge?\n",
      "output generated\n",
      "[\"A fun challenge!\\n\\nHere are the solutions:\\n\\n1. Input: 4, 4, 6, 8\\nAnswer: (4 + 8) * (6 - 4) = 12 * 2 = 24\\n\\n2. Input: 2, 9, 10, 12\\nAnswer: 2 * 12 * (10 - 9) = 24\\n\\n3. Input: 4, 9, 10, 13\\nAnswer: (13 - 9) * (10 - 4) = 4 * 6 = 24\\n\\n4. Input: 1, 4, 8, 8\\nAnswer: (8 / 4 + 1) * 8 = 2 + 1 = 3 * 8 = 24\\n\\n5. Input: 5, 5, 5, 9\\nAnswer: 5 + 5 + 5 + 9 = 24\\n\\n6. Input: 6, 7, 8, 9\\nNo solution found.\\n\\nIt seems that the last input doesn't have a valid solution. Would you like me to double-check or provide another challenge?\"]\n"
     ]
    }
   ],
   "source": [
    "ys, infos = naive_solve(args, task, 904)\n",
    "print(ys)"
   ]
  },
  {
   "cell_type": "code",
   "execution_count": 8,
   "metadata": {},
   "outputs": [
    {
     "name": "stdout",
     "output_type": "stream",
     "text": [
      "functools.partial(<function gpt at 0x0000017E22023BA0>, model='llama3', temperature=0.7)\n",
      "output generating get_samples\n",
      "Use numbers and basic arithmetic operations (+ - * /) to obtain 24.\n",
      "Input: 4 4 6 8\n",
      "Answer: (4 + 8) * (6 - 4) = 24\n",
      "Input: 2 9 10 12\n",
      "Answer: 2 * 12 * (10 - 9) = 24\n",
      "Input: 4 9 10 13\n",
      "Answer: (13 - 9) * (10 - 4) = 24\n",
      "Input: 1 4 8 8\n",
      "Answer: (8 / 4 + 1) * 8 = 24\n",
      "Input: 5 5 5 9\n",
      "Answer: 5 + 5 + 5 + 9 = 24\n",
      "Input: 1 11 11 13\n",
      "\n",
      "1\n",
      "1 [{'role': 'user', 'content': 'Use numbers and basic arithmetic operations (+ - * /) to obtain 24.\\nInput: 4 4 6 8\\nAnswer: (4 + 8) * (6 - 4) = 24\\nInput: 2 9 10 12\\nAnswer: 2 * 12 * (10 - 9) = 24\\nInput: 4 9 10 13\\nAnswer: (13 - 9) * (10 - 4) = 24\\nInput: 1 4 8 8\\nAnswer: (8 / 4 + 1) * 8 = 24\\nInput: 5 5 5 9\\nAnswer: 5 + 5 + 5 + 9 = 24\\nInput: 1 11 11 13\\n'}]\n",
      "A fun challenge!\n",
      "\n",
      "Here are the solutions:\n",
      "\n",
      "1. Input: 4, 4, 6, 8\n",
      "Answer: (4 + 8) * (6 - 4) = 12 * 2 = 24\n",
      "\n",
      "2. Input: 2, 9, 10, 12\n",
      "Answer: 2 * 12 * (10 - 9) = 2 * 12 * 1 = 24\n",
      "\n",
      "3. Input: 4, 9, 10, 13\n",
      "Answer: (13 - 9) * (10 - 4) = 4 * 6 = 24\n",
      "\n",
      "4. Input: 1, 4, 8, 8\n",
      "Answer: (8 / 4 + 1) * 8 = (2 + 1) * 8 = 3 * 8 = 24\n",
      "\n",
      "5. Input: 5, 5, 5, 9\n",
      "Answer: 5 + 5 + 5 + 9 = 24\n",
      "\n",
      "6. Input: 1, 11, 11, 13\n",
      "Answer: ? (no valid expression found)\n",
      "\n",
      "Let me know if I missed any!\n",
      "output generated\n",
      "['A fun challenge!\\n\\nHere are the solutions:\\n\\n1. Input: 4, 4, 6, 8\\nAnswer: (4 + 8) * (6 - 4) = 12 * 2 = 24\\n\\n2. Input: 2, 9, 10, 12\\nAnswer: 2 * 12 * (10 - 9) = 2 * 12 * 1 = 24\\n\\n3. Input: 4, 9, 10, 13\\nAnswer: (13 - 9) * (10 - 4) = 4 * 6 = 24\\n\\n4. Input: 1, 4, 8, 8\\nAnswer: (8 / 4 + 1) * 8 = (2 + 1) * 8 = 3 * 8 = 24\\n\\n5. Input: 5, 5, 5, 9\\nAnswer: 5 + 5 + 5 + 9 = 24\\n\\n6. Input: 1, 11, 11, 13\\nAnswer: ? (no valid expression found)\\n\\nLet me know if I missed any!']\n"
     ]
    }
   ],
   "source": [
    "ys, infos = naive_solve(args, task, 905)\n",
    "print(ys)"
   ]
  },
  {
   "cell_type": "code",
   "execution_count": 9,
   "metadata": {},
   "outputs": [
    {
     "name": "stdout",
     "output_type": "stream",
     "text": [
      "functools.partial(<function gpt at 0x0000017E22023BA0>, model='llama3', temperature=0.7)\n",
      "output generating get_samples\n",
      "Use numbers and basic arithmetic operations (+ - * /) to obtain 24.\n",
      "Input: 4 4 6 8\n",
      "Answer: (4 + 8) * (6 - 4) = 24\n",
      "Input: 2 9 10 12\n",
      "Answer: 2 * 12 * (10 - 9) = 24\n",
      "Input: 4 9 10 13\n",
      "Answer: (13 - 9) * (10 - 4) = 24\n",
      "Input: 1 4 8 8\n",
      "Answer: (8 / 4 + 1) * 8 = 24\n",
      "Input: 5 5 5 9\n",
      "Answer: 5 + 5 + 5 + 9 = 24\n",
      "Input: 1 8 10 11\n",
      "\n",
      "1\n",
      "1 [{'role': 'user', 'content': 'Use numbers and basic arithmetic operations (+ - * /) to obtain 24.\\nInput: 4 4 6 8\\nAnswer: (4 + 8) * (6 - 4) = 24\\nInput: 2 9 10 12\\nAnswer: 2 * 12 * (10 - 9) = 24\\nInput: 4 9 10 13\\nAnswer: (13 - 9) * (10 - 4) = 24\\nInput: 1 4 8 8\\nAnswer: (8 / 4 + 1) * 8 = 24\\nInput: 5 5 5 9\\nAnswer: 5 + 5 + 5 + 9 = 24\\nInput: 1 8 10 11\\n'}]\n",
      "You can use various combinations of numbers and basic arithmetic operations to obtain the desired result. Let's explore some possible solutions:\n",
      "\n",
      "1. Input: 4, 4, 6, 8\n",
      "   Answer: (4 + 8) * (6 - 4) = 24\n",
      "\n",
      "2. Input: 2, 9, 10, 12\n",
      "   Answer: 2 * 12 * (10 - 9) = 24\n",
      "\n",
      "3. Input: 4, 9, 10, 13\n",
      "   Answer: (13 - 9) * (10 - 4) = 24\n",
      "\n",
      "4. Input: 1, 4, 8, 8\n",
      "   Answer: (8 / 4 + 1) * 8 = 24\n",
      "\n",
      "5. Input: 5, 5, 5, 9\n",
      "   Answer: 5 + 5 + 5 + 9 = 24\n",
      "output generated\n",
      "[\"You can use various combinations of numbers and basic arithmetic operations to obtain the desired result. Let's explore some possible solutions:\\n\\n1. Input: 4, 4, 6, 8\\n   Answer: (4 + 8) * (6 - 4) = 24\\n\\n2. Input: 2, 9, 10, 12\\n   Answer: 2 * 12 * (10 - 9) = 24\\n\\n3. Input: 4, 9, 10, 13\\n   Answer: (13 - 9) * (10 - 4) = 24\\n\\n4. Input: 1, 4, 8, 8\\n   Answer: (8 / 4 + 1) * 8 = 24\\n\\n5. Input: 5, 5, 5, 9\\n   Answer: 5 + 5 + 5 + 9 = 24\"]\n"
     ]
    }
   ],
   "source": [
    "ys, infos = naive_solve(args, task, 906)\n",
    "print(ys)"
   ]
  },
  {
   "cell_type": "code",
   "execution_count": 10,
   "metadata": {},
   "outputs": [
    {
     "name": "stdout",
     "output_type": "stream",
     "text": [
      "functools.partial(<function gpt at 0x0000017E22023BA0>, model='llama3', temperature=0.7)\n",
      "output generating get_samples\n",
      "Use numbers and basic arithmetic operations (+ - * /) to obtain 24.\n",
      "Input: 4 4 6 8\n",
      "Answer: (4 + 8) * (6 - 4) = 24\n",
      "Input: 2 9 10 12\n",
      "Answer: 2 * 12 * (10 - 9) = 24\n",
      "Input: 4 9 10 13\n",
      "Answer: (13 - 9) * (10 - 4) = 24\n",
      "Input: 1 4 8 8\n",
      "Answer: (8 / 4 + 1) * 8 = 24\n",
      "Input: 5 5 5 9\n",
      "Answer: 5 + 5 + 5 + 9 = 24\n",
      "Input: 2 3 6 9\n",
      "\n",
      "1\n",
      "1 [{'role': 'user', 'content': 'Use numbers and basic arithmetic operations (+ - * /) to obtain 24.\\nInput: 4 4 6 8\\nAnswer: (4 + 8) * (6 - 4) = 24\\nInput: 2 9 10 12\\nAnswer: 2 * 12 * (10 - 9) = 24\\nInput: 4 9 10 13\\nAnswer: (13 - 9) * (10 - 4) = 24\\nInput: 1 4 8 8\\nAnswer: (8 / 4 + 1) * 8 = 24\\nInput: 5 5 5 9\\nAnswer: 5 + 5 + 5 + 9 = 24\\nInput: 2 3 6 9\\n'}]\n",
      "I see what you're getting at!\n",
      "\n",
      "You want me to use basic arithmetic operations (+, -, *, /) to obtain the value 24 using the given numbers. Here are my answers:\n",
      "\n",
      "1. Input: 4 4 6 8\n",
      "Answer: (4 + 8) * (6 - 4) = 12 * 2 = 24\n",
      "\n",
      "2. Input: 2 9 10 12\n",
      "Answer: 2 * 12 * (10 - 9) = 2 * 12 * 1 = 24\n",
      "\n",
      "3. Input: 4 9 10 13\n",
      "Answer: (13 - 9) * (10 - 4) = 4 * 6 = 24\n",
      "\n",
      "4. Input: 1 4 8 8\n",
      "Answer: (8 / 4 + 1) * 8 = (2 + 1) * 8 = 3 * 8 = 24\n",
      "\n",
      "5. Input: 5 5 5 9\n",
      "Answer: 5 + 5 + 5 + 9 = 24\n",
      "\n",
      "6. Input: 2 3 6 9\n",
      "Answer: Not possible to obtain 24 using only the given numbers and basic arithmetic operations.\n",
      "\n",
      "Let me know if you have any further questions or if there's anything else I can help you with!\n",
      "output generated\n",
      "[\"I see what you're getting at!\\n\\nYou want me to use basic arithmetic operations (+, -, *, /) to obtain the value 24 using the given numbers. Here are my answers:\\n\\n1. Input: 4 4 6 8\\nAnswer: (4 + 8) * (6 - 4) = 12 * 2 = 24\\n\\n2. Input: 2 9 10 12\\nAnswer: 2 * 12 * (10 - 9) = 2 * 12 * 1 = 24\\n\\n3. Input: 4 9 10 13\\nAnswer: (13 - 9) * (10 - 4) = 4 * 6 = 24\\n\\n4. Input: 1 4 8 8\\nAnswer: (8 / 4 + 1) * 8 = (2 + 1) * 8 = 3 * 8 = 24\\n\\n5. Input: 5 5 5 9\\nAnswer: 5 + 5 + 5 + 9 = 24\\n\\n6. Input: 2 3 6 9\\nAnswer: Not possible to obtain 24 using only the given numbers and basic arithmetic operations.\\n\\nLet me know if you have any further questions or if there's anything else I can help you with!\"]\n"
     ]
    }
   ],
   "source": [
    "ys, infos = naive_solve(args, task, 907)\n",
    "print(ys)"
   ]
  },
  {
   "cell_type": "code",
   "execution_count": 11,
   "metadata": {},
   "outputs": [
    {
     "name": "stdout",
     "output_type": "stream",
     "text": [
      "functools.partial(<function gpt at 0x0000017E22023BA0>, model='llama3', temperature=0.7)\n",
      "output generating get_samples\n",
      "Use numbers and basic arithmetic operations (+ - * /) to obtain 24.\n",
      "Input: 4 4 6 8\n",
      "Answer: (4 + 8) * (6 - 4) = 24\n",
      "Input: 2 9 10 12\n",
      "Answer: 2 * 12 * (10 - 9) = 24\n",
      "Input: 4 9 10 13\n",
      "Answer: (13 - 9) * (10 - 4) = 24\n",
      "Input: 1 4 8 8\n",
      "Answer: (8 / 4 + 1) * 8 = 24\n",
      "Input: 5 5 5 9\n",
      "Answer: 5 + 5 + 5 + 9 = 24\n",
      "Input: 1 3 5 9\n",
      "\n",
      "1\n",
      "1 [{'role': 'user', 'content': 'Use numbers and basic arithmetic operations (+ - * /) to obtain 24.\\nInput: 4 4 6 8\\nAnswer: (4 + 8) * (6 - 4) = 24\\nInput: 2 9 10 12\\nAnswer: 2 * 12 * (10 - 9) = 24\\nInput: 4 9 10 13\\nAnswer: (13 - 9) * (10 - 4) = 24\\nInput: 1 4 8 8\\nAnswer: (8 / 4 + 1) * 8 = 24\\nInput: 5 5 5 9\\nAnswer: 5 + 5 + 5 + 9 = 24\\nInput: 1 3 5 9\\n'}]\n",
      "Here are the solutions:\n",
      "\n",
      "1. Input: 4 4 6 8\n",
      "Answer: (4 + 8) * (6 - 4) = 12 * 2 = 24\n",
      "\n",
      "2. Input: 2 9 10 12\n",
      "Answer: 2 * 12 * (10 - 9) = 24\n",
      "\n",
      "3. Input: 4 9 10 13\n",
      "Answer: (13 - 9) * (10 - 4) = 4 * 6 = 24\n",
      "\n",
      "4. Input: 1 4 8 8\n",
      "Answer: (8 / 4 + 1) * 8 = 2 + 1 = 3 * 8 = 24\n",
      "\n",
      "5. Input: 5 5 5 9\n",
      "Answer: 5 + 5 + 5 + 9 = 24\n",
      "\n",
      "6. Input: 1 3 5 9\n",
      "No solution is found, as the numbers do not combine to equal 24.\n",
      "output generated\n",
      "['Here are the solutions:\\n\\n1. Input: 4 4 6 8\\nAnswer: (4 + 8) * (6 - 4) = 12 * 2 = 24\\n\\n2. Input: 2 9 10 12\\nAnswer: 2 * 12 * (10 - 9) = 24\\n\\n3. Input: 4 9 10 13\\nAnswer: (13 - 9) * (10 - 4) = 4 * 6 = 24\\n\\n4. Input: 1 4 8 8\\nAnswer: (8 / 4 + 1) * 8 = 2 + 1 = 3 * 8 = 24\\n\\n5. Input: 5 5 5 9\\nAnswer: 5 + 5 + 5 + 9 = 24\\n\\n6. Input: 1 3 5 9\\nNo solution is found, as the numbers do not combine to equal 24.']\n"
     ]
    }
   ],
   "source": [
    "ys, infos = naive_solve(args, task, 908)\n",
    "print(ys)"
   ]
  },
  {
   "cell_type": "code",
   "execution_count": 12,
   "metadata": {},
   "outputs": [
    {
     "name": "stdout",
     "output_type": "stream",
     "text": [
      "functools.partial(<function gpt at 0x0000017E22023BA0>, model='llama3', temperature=0.7)\n",
      "output generating get_samples\n",
      "Use numbers and basic arithmetic operations (+ - * /) to obtain 24.\n",
      "Input: 4 4 6 8\n",
      "Answer: (4 + 8) * (6 - 4) = 24\n",
      "Input: 2 9 10 12\n",
      "Answer: 2 * 12 * (10 - 9) = 24\n",
      "Input: 4 9 10 13\n",
      "Answer: (13 - 9) * (10 - 4) = 24\n",
      "Input: 1 4 8 8\n",
      "Answer: (8 / 4 + 1) * 8 = 24\n",
      "Input: 5 5 5 9\n",
      "Answer: 5 + 5 + 5 + 9 = 24\n",
      "Input: 3 3 7 12\n",
      "\n",
      "1\n",
      "1 [{'role': 'user', 'content': 'Use numbers and basic arithmetic operations (+ - * /) to obtain 24.\\nInput: 4 4 6 8\\nAnswer: (4 + 8) * (6 - 4) = 24\\nInput: 2 9 10 12\\nAnswer: 2 * 12 * (10 - 9) = 24\\nInput: 4 9 10 13\\nAnswer: (13 - 9) * (10 - 4) = 24\\nInput: 1 4 8 8\\nAnswer: (8 / 4 + 1) * 8 = 24\\nInput: 5 5 5 9\\nAnswer: 5 + 5 + 5 + 9 = 24\\nInput: 3 3 7 12\\n'}]\n",
      "Here are the calculations for each input:\n",
      "\n",
      "1. Input: 4, 4, 6, 8\n",
      "Answer: (4 + 8) * (6 - 4) = 12 * 2 = 24\n",
      "\n",
      "2. Input: 2, 9, 10, 12\n",
      "Answer: 2 * 12 * (10 - 9) = 24\n",
      "\n",
      "3. Input: 4, 9, 10, 13\n",
      "Answer: (13 - 9) * (10 - 4) = 4 * 6 = 24\n",
      "\n",
      "4. Input: 1, 4, 8, 8\n",
      "Answer: (8 / 4 + 1) * 8 = 2 * 8 = 24\n",
      "\n",
      "5. Input: 5, 5, 5, 9\n",
      "Answer: 5 + 5 + 5 + 9 = 24\n",
      "\n",
      "6. Input: 3, 3, 7, 12\n",
      "Answer: ? (need to calculate)\n",
      "\n",
      "Let me know if you'd like me to help with the last one!\n",
      "output generated\n",
      "[\"Here are the calculations for each input:\\n\\n1. Input: 4, 4, 6, 8\\nAnswer: (4 + 8) * (6 - 4) = 12 * 2 = 24\\n\\n2. Input: 2, 9, 10, 12\\nAnswer: 2 * 12 * (10 - 9) = 24\\n\\n3. Input: 4, 9, 10, 13\\nAnswer: (13 - 9) * (10 - 4) = 4 * 6 = 24\\n\\n4. Input: 1, 4, 8, 8\\nAnswer: (8 / 4 + 1) * 8 = 2 * 8 = 24\\n\\n5. Input: 5, 5, 5, 9\\nAnswer: 5 + 5 + 5 + 9 = 24\\n\\n6. Input: 3, 3, 7, 12\\nAnswer: ? (need to calculate)\\n\\nLet me know if you'd like me to help with the last one!\"]\n"
     ]
    }
   ],
   "source": [
    "ys, infos = naive_solve(args, task, 909)\n",
    "print(ys)"
   ]
  }
 ],
 "metadata": {
  "kernelspec": {
   "display_name": "Python 3",
   "language": "python",
   "name": "python3"
  },
  "language_info": {
   "codemirror_mode": {
    "name": "ipython",
    "version": 3
   },
   "file_extension": ".py",
   "mimetype": "text/x-python",
   "name": "python",
   "nbconvert_exporter": "python",
   "pygments_lexer": "ipython3",
   "version": "3.11.9"
  }
 },
 "nbformat": 4,
 "nbformat_minor": 2
}
